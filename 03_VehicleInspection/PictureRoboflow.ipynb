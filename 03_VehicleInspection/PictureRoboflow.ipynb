{
 "cells": [
  {
   "cell_type": "code",
   "execution_count": 1,
   "id": "de780d47",
   "metadata": {
    "scrolled": false
   },
   "outputs": [
    {
     "name": "stdout",
     "output_type": "stream",
     "text": [
      "Collecting roboflow\n",
      "  Obtaining dependency information for roboflow from https://files.pythonhosted.org/packages/4f/2c/13ef4a1811365208f7441dae564ea57dad4b58762196b7d8e65860b0cc07/roboflow-1.1.7-py3-none-any.whl.metadata\n",
      "  Downloading roboflow-1.1.7-py3-none-any.whl.metadata (9.0 kB)\n",
      "Collecting certifi==2022.12.7 (from roboflow)\n",
      "  Using cached certifi-2022.12.7-py3-none-any.whl (155 kB)\n",
      "Collecting chardet==4.0.0 (from roboflow)\n",
      "  Using cached chardet-4.0.0-py2.py3-none-any.whl (178 kB)\n",
      "Collecting cycler==0.10.0 (from roboflow)\n",
      "  Using cached cycler-0.10.0-py2.py3-none-any.whl (6.5 kB)\n",
      "Collecting idna==2.10 (from roboflow)\n",
      "  Using cached idna-2.10-py2.py3-none-any.whl (58 kB)\n",
      "Collecting kiwisolver>=1.3.1 (from roboflow)\n",
      "  Obtaining dependency information for kiwisolver>=1.3.1 from https://files.pythonhosted.org/packages/1e/37/d3c2d4ba2719059a0f12730947bbe1ad5ee8bff89e8c35319dcb2c9ddb4c/kiwisolver-1.4.5-cp311-cp311-win_amd64.whl.metadata\n",
      "  Downloading kiwisolver-1.4.5-cp311-cp311-win_amd64.whl.metadata (6.5 kB)\n",
      "Collecting matplotlib (from roboflow)\n",
      "  Obtaining dependency information for matplotlib from https://files.pythonhosted.org/packages/40/d9/c1784db9db0d484c8e5deeafbaac0d6ed66e165c6eb4a74fb43a5fa947d9/matplotlib-3.8.0-cp311-cp311-win_amd64.whl.metadata\n",
      "  Downloading matplotlib-3.8.0-cp311-cp311-win_amd64.whl.metadata (5.9 kB)\n",
      "Collecting numpy>=1.18.5 (from roboflow)\n",
      "  Obtaining dependency information for numpy>=1.18.5 from https://files.pythonhosted.org/packages/82/0f/3f712cd84371636c5375d2dd70e7514d264cec6bdfc3d7997a4236e9f948/numpy-1.26.1-cp311-cp311-win_amd64.whl.metadata\n",
      "  Downloading numpy-1.26.1-cp311-cp311-win_amd64.whl.metadata (61 kB)\n",
      "     ---------------------------------------- 0.0/61.2 kB ? eta -:--:--\n",
      "     ---------------------------------------- 61.2/61.2 kB 1.6 MB/s eta 0:00:00\n",
      "Collecting opencv-python-headless==4.8.0.74 (from roboflow)\n",
      "  Obtaining dependency information for opencv-python-headless==4.8.0.74 from https://files.pythonhosted.org/packages/60/e7/a6dedca760db7a4686fd3b6053487ad4ad4d8f0591295dc8a9cf35269c42/opencv_python_headless-4.8.0.74-cp37-abi3-win_amd64.whl.metadata\n",
      "  Downloading opencv_python_headless-4.8.0.74-cp37-abi3-win_amd64.whl.metadata (19 kB)\n",
      "Collecting Pillow>=7.1.2 (from roboflow)\n",
      "  Obtaining dependency information for Pillow>=7.1.2 from https://files.pythonhosted.org/packages/b1/38/31def4109acd4db10672df6f806b175c0d21458f845ddc0890e43238ba7c/Pillow-10.1.0-cp311-cp311-win_amd64.whl.metadata\n",
      "  Downloading Pillow-10.1.0-cp311-cp311-win_amd64.whl.metadata (9.6 kB)\n",
      "Collecting pyparsing==2.4.7 (from roboflow)\n",
      "  Using cached pyparsing-2.4.7-py2.py3-none-any.whl (67 kB)\n",
      "Requirement already satisfied: python-dateutil in d:\\users\\anyamanee\\appdata\\local\\anaconda3\\envs\\aaagrading\\lib\\site-packages (from roboflow) (2.8.2)\n",
      "Collecting python-dotenv (from roboflow)\n",
      "  Using cached python_dotenv-1.0.0-py3-none-any.whl (19 kB)\n",
      "Collecting requests (from roboflow)\n",
      "  Obtaining dependency information for requests from https://files.pythonhosted.org/packages/70/8e/0e2d847013cb52cd35b38c009bb167a1a26b2ce6cd6965bf26b47bc0bf44/requests-2.31.0-py3-none-any.whl.metadata\n",
      "  Downloading requests-2.31.0-py3-none-any.whl.metadata (4.6 kB)\n",
      "Requirement already satisfied: six in d:\\users\\anyamanee\\appdata\\local\\anaconda3\\envs\\aaagrading\\lib\\site-packages (from roboflow) (1.16.0)\n",
      "Collecting supervision (from roboflow)\n",
      "  Obtaining dependency information for supervision from https://files.pythonhosted.org/packages/c0/59/6bc863f530c0ba5da4c565fd40f17b2b333c2ab28b783202937293ae494a/supervision-0.16.0-py3-none-any.whl.metadata\n",
      "  Downloading supervision-0.16.0-py3-none-any.whl.metadata (14 kB)\n",
      "Collecting urllib3>=1.26.6 (from roboflow)\n",
      "  Obtaining dependency information for urllib3>=1.26.6 from https://files.pythonhosted.org/packages/d2/b2/b157855192a68541a91ba7b2bbcb91f1b4faa51f8bae38d8005c034be524/urllib3-2.0.7-py3-none-any.whl.metadata\n",
      "  Downloading urllib3-2.0.7-py3-none-any.whl.metadata (6.6 kB)\n",
      "Collecting tqdm>=4.41.0 (from roboflow)\n",
      "  Obtaining dependency information for tqdm>=4.41.0 from https://files.pythonhosted.org/packages/00/e5/f12a80907d0884e6dff9c16d0c0114d81b8cd07dc3ae54c5e962cc83037e/tqdm-4.66.1-py3-none-any.whl.metadata\n",
      "  Downloading tqdm-4.66.1-py3-none-any.whl.metadata (57 kB)\n",
      "     ---------------------------------------- 0.0/57.6 kB ? eta -:--:--\n",
      "     ---------------------------------------- 57.6/57.6 kB ? eta 0:00:00\n",
      "Collecting PyYAML>=5.3.1 (from roboflow)\n",
      "  Obtaining dependency information for PyYAML>=5.3.1 from https://files.pythonhosted.org/packages/b3/34/65bb4b2d7908044963ebf614fe0fdb080773fc7030d7e39c8d3eddcd4257/PyYAML-6.0.1-cp311-cp311-win_amd64.whl.metadata\n",
      "  Downloading PyYAML-6.0.1-cp311-cp311-win_amd64.whl.metadata (2.1 kB)\n",
      "Collecting requests-toolbelt (from roboflow)\n",
      "  Using cached requests_toolbelt-1.0.0-py2.py3-none-any.whl (54 kB)\n",
      "Requirement already satisfied: colorama in d:\\users\\anyamanee\\appdata\\local\\anaconda3\\envs\\aaagrading\\lib\\site-packages (from tqdm>=4.41.0->roboflow) (0.4.6)\n",
      "Collecting contourpy>=1.0.1 (from matplotlib->roboflow)\n",
      "  Obtaining dependency information for contourpy>=1.0.1 from https://files.pythonhosted.org/packages/e5/76/94bc17eb868f8c7397f8fdfdeae7661c1b9a35f3a7219da308596e8c252a/contourpy-1.1.1-cp311-cp311-win_amd64.whl.metadata\n",
      "  Downloading contourpy-1.1.1-cp311-cp311-win_amd64.whl.metadata (5.9 kB)\n",
      "Collecting fonttools>=4.22.0 (from matplotlib->roboflow)\n",
      "  Obtaining dependency information for fonttools>=4.22.0 from https://files.pythonhosted.org/packages/ae/f6/724d2d236797ea7479a5a7ec8e69c2bee60cad70273cf25078810415ae2d/fonttools-4.43.1-cp311-cp311-win_amd64.whl.metadata\n",
      "  Downloading fonttools-4.43.1-cp311-cp311-win_amd64.whl.metadata (155 kB)\n",
      "     ---------------------------------------- 0.0/155.5 kB ? eta -:--:--\n",
      "     -------------------------------------- 155.5/155.5 kB 9.1 MB/s eta 0:00:00\n",
      "Requirement already satisfied: packaging>=20.0 in d:\\users\\anyamanee\\appdata\\local\\anaconda3\\envs\\aaagrading\\lib\\site-packages (from matplotlib->roboflow) (23.1)\n",
      "Collecting charset-normalizer<4,>=2 (from requests->roboflow)\n",
      "  Obtaining dependency information for charset-normalizer<4,>=2 from https://files.pythonhosted.org/packages/ef/96/1c7e85db0a1b2f182d47375987e82aacb60c987e3943b11ccce3fc6aebab/charset_normalizer-3.3.1-cp311-cp311-win_amd64.whl.metadata\n",
      "  Downloading charset_normalizer-3.3.1-cp311-cp311-win_amd64.whl.metadata (33 kB)\n",
      "Collecting scipy<2.0.0,>=1.9.0 (from supervision->roboflow)\n",
      "  Obtaining dependency information for scipy<2.0.0,>=1.9.0 from https://files.pythonhosted.org/packages/81/d7/d2537d51efb692d0c411e64267ba349e7668d40f5bc73cefe78ccd650dcd/scipy-1.11.3-cp311-cp311-win_amd64.whl.metadata\n",
      "  Downloading scipy-1.11.3-cp311-cp311-win_amd64.whl.metadata (60 kB)\n",
      "     ---------------------------------------- 0.0/60.4 kB ? eta -:--:--\n",
      "     ---------------------------------------- 60.4/60.4 kB ? eta 0:00:00\n",
      "Using cached roboflow-1.1.7-py3-none-any.whl (58 kB)\n",
      "Using cached opencv_python_headless-4.8.0.74-cp37-abi3-win_amd64.whl (38.0 MB)\n",
      "Downloading kiwisolver-1.4.5-cp311-cp311-win_amd64.whl (56 kB)\n",
      "   ---------------------------------------- 0.0/56.1 kB ? eta -:--:--\n",
      "   ---------------------------------------- 56.1/56.1 kB ? eta 0:00:00\n",
      "Downloading numpy-1.26.1-cp311-cp311-win_amd64.whl (15.8 MB)\n",
      "   ---------------------------------------- 0.0/15.8 MB ? eta -:--:--\n",
      "    --------------------------------------- 0.4/15.8 MB 23.9 MB/s eta 0:00:01\n",
      "    --------------------------------------- 0.4/15.8 MB 23.9 MB/s eta 0:00:01\n",
      "   ------ --------------------------------- 2.4/15.8 MB 17.4 MB/s eta 0:00:01\n",
      "   --------- ------------------------------ 3.7/15.8 MB 23.6 MB/s eta 0:00:01\n",
      "   ----------- ---------------------------- 4.5/15.8 MB 19.3 MB/s eta 0:00:01\n",
      "   ------------- -------------------------- 5.4/15.8 MB 19.2 MB/s eta 0:00:01\n",
      "   ---------------- ----------------------- 6.4/15.8 MB 19.4 MB/s eta 0:00:01\n",
      "   ----------------- ---------------------- 7.0/15.8 MB 18.7 MB/s eta 0:00:01\n",
      "   ---------------------- ----------------- 8.9/15.8 MB 21.1 MB/s eta 0:00:01\n",
      "   ------------------------ --------------- 9.7/15.8 MB 20.6 MB/s eta 0:00:01\n",
      "   -------------------------- ------------- 10.7/15.8 MB 26.2 MB/s eta 0:00:01\n",
      "   ----------------------------- ---------- 11.5/15.8 MB 23.4 MB/s eta 0:00:01\n",
      "   ------------------------------------ --- 14.4/15.8 MB 26.2 MB/s eta 0:00:01\n",
      "   ---------------------------------------  15.8/15.8 MB 28.5 MB/s eta 0:00:01\n",
      "   ---------------------------------------- 15.8/15.8 MB 25.2 MB/s eta 0:00:00\n",
      "Downloading Pillow-10.1.0-cp311-cp311-win_amd64.whl (2.6 MB)\n",
      "   ---------------------------------------- 0.0/2.6 MB ? eta -:--:--\n",
      "   ---------------------- ----------------- 1.4/2.6 MB 46.2 MB/s eta 0:00:01\n",
      "   ----------------------------- ---------- 1.9/2.6 MB 24.7 MB/s eta 0:00:01\n",
      "   ------------------------------------- -- 2.5/2.6 MB 19.7 MB/s eta 0:00:01\n",
      "   ---------------------------------------- 2.6/2.6 MB 15.1 MB/s eta 0:00:00\n",
      "Using cached PyYAML-6.0.1-cp311-cp311-win_amd64.whl (144 kB)\n",
      "Downloading tqdm-4.66.1-py3-none-any.whl (78 kB)\n",
      "   ---------------------------------------- 0.0/78.3 kB ? eta -:--:--\n",
      "   ---------------------------------------- 78.3/78.3 kB 4.3 MB/s eta 0:00:00\n",
      "Downloading urllib3-2.0.7-py3-none-any.whl (124 kB)\n",
      "   ---------------------------------------- 0.0/124.2 kB ? eta -:--:--\n",
      "   ---------------------------------------- 124.2/124.2 kB ? eta 0:00:00\n",
      "Downloading matplotlib-3.8.0-cp311-cp311-win_amd64.whl (7.6 MB)\n",
      "   ---------------------------------------- 0.0/7.6 MB ? eta -:--:--\n",
      "   --------------- ------------------------ 3.0/7.6 MB 64.3 MB/s eta 0:00:01\n",
      "   ---------------------------- ----------- 5.5/7.6 MB 70.0 MB/s eta 0:00:01\n",
      "   ---------------------------------------  7.6/7.6 MB 61.0 MB/s eta 0:00:01\n",
      "   ---------------------------------------- 7.6/7.6 MB 54.1 MB/s eta 0:00:00\n",
      "Using cached requests-2.31.0-py3-none-any.whl (62 kB)\n",
      "Downloading supervision-0.16.0-py3-none-any.whl (72 kB)\n",
      "   ---------------------------------------- 0.0/72.2 kB ? eta -:--:--\n",
      "   ---------------------------------------- 72.2/72.2 kB ? eta 0:00:00\n",
      "Downloading charset_normalizer-3.3.1-cp311-cp311-win_amd64.whl (98 kB)\n",
      "   ---------------------------------------- 0.0/98.3 kB ? eta -:--:--\n",
      "   ---------------------------------------- 98.3/98.3 kB ? eta 0:00:00\n",
      "Downloading contourpy-1.1.1-cp311-cp311-win_amd64.whl (480 kB)\n",
      "   ---------------------------------------- 0.0/480.5 kB ? eta -:--:--\n",
      "   --------------------------------------- 480.5/480.5 kB 29.4 MB/s eta 0:00:00\n",
      "Downloading fonttools-4.43.1-cp311-cp311-win_amd64.whl (2.1 MB)\n",
      "   ---------------------------------------- 0.0/2.1 MB ? eta -:--:--\n",
      "   ---------------------------------------- 2.1/2.1 MB 45.4 MB/s eta 0:00:00\n",
      "Downloading scipy-1.11.3-cp311-cp311-win_amd64.whl (44.1 MB)\n",
      "   ---------------------------------------- 0.0/44.1 MB ? eta -:--:--\n",
      "   - -------------------------------------- 1.7/44.1 MB 54.2 MB/s eta 0:00:01\n",
      "   --- ------------------------------------ 3.9/44.1 MB 41.3 MB/s eta 0:00:01\n",
      "   ----- ---------------------------------- 6.4/44.1 MB 45.2 MB/s eta 0:00:01\n",
      "   -------- ------------------------------- 9.1/44.1 MB 48.7 MB/s eta 0:00:01\n",
      "   ---------- ----------------------------- 11.9/44.1 MB 54.4 MB/s eta 0:00:01\n",
      "   ------------ --------------------------- 13.8/44.1 MB 54.4 MB/s eta 0:00:01\n",
      "   -------------- ------------------------- 15.7/44.1 MB 54.7 MB/s eta 0:00:01\n",
      "   ---------------- ----------------------- 17.9/44.1 MB 50.4 MB/s eta 0:00:01\n",
      "   ------------------ --------------------- 20.4/44.1 MB 50.4 MB/s eta 0:00:01\n",
      "   -------------------- ------------------- 22.9/44.1 MB 50.4 MB/s eta 0:00:01\n",
      "   ----------------------- ---------------- 25.7/44.1 MB 54.4 MB/s eta 0:00:01\n",
      "   ------------------------- -------------- 28.3/44.1 MB 59.5 MB/s eta 0:00:01\n",
      "   --------------------------- ------------ 30.4/44.1 MB 54.4 MB/s eta 0:00:01\n",
      "   ----------------------------- ---------- 32.6/44.1 MB 54.4 MB/s eta 0:00:01\n",
      "   ------------------------------- -------- 35.0/44.1 MB 50.4 MB/s eta 0:00:01\n",
      "   --------------------------------- ------ 37.0/44.1 MB 46.9 MB/s eta 0:00:01\n",
      "   ----------------------------------- ---- 39.6/44.1 MB 50.4 MB/s eta 0:00:01\n",
      "   -------------------------------------- - 42.0/44.1 MB 50.4 MB/s eta 0:00:01\n",
      "   ---------------------------------------  44.1/44.1 MB 50.4 MB/s eta 0:00:01\n",
      "   ---------------------------------------  44.1/44.1 MB 50.4 MB/s eta 0:00:01\n",
      "   ---------------------------------------- 44.1/44.1 MB 32.8 MB/s eta 0:00:00\n",
      "Installing collected packages: urllib3, tqdm, PyYAML, python-dotenv, pyparsing, Pillow, numpy, kiwisolver, idna, fonttools, cycler, charset-normalizer, chardet, certifi, scipy, requests, opencv-python-headless, contourpy, requests-toolbelt, matplotlib, supervision, roboflow\n",
      "Successfully installed Pillow-10.1.0 PyYAML-6.0.1 certifi-2022.12.7 chardet-4.0.0 charset-normalizer-3.3.1 contourpy-1.1.1 cycler-0.10.0 fonttools-4.43.1 idna-2.10 kiwisolver-1.4.5 matplotlib-3.8.0 numpy-1.26.1 opencv-python-headless-4.8.0.74 pyparsing-2.4.7 python-dotenv-1.0.0 requests-2.31.0 requests-toolbelt-1.0.0 roboflow-1.1.7 scipy-1.11.3 supervision-0.16.0 tqdm-4.66.1 urllib3-2.0.7\n",
      "Note: you may need to restart the kernel to use updated packages.\n"
     ]
    }
   ],
   "source": [
    "%pip install roboflow\n"
   ]
  },
  {
   "cell_type": "code",
   "execution_count": 1,
   "id": "a5fbb03f",
   "metadata": {},
   "outputs": [
    {
     "name": "stdout",
     "output_type": "stream",
     "text": [
      "loading Roboflow workspace...\n",
      "loading Roboflow project...\n"
     ]
    },
    {
     "name": "stderr",
     "output_type": "stream",
     "text": [
      "Downloading Dataset Version Zip in CarInspection-1 to coco:: 100%|██████████| 2729/2729 [00:01<00:00, 2488.74it/s]"
     ]
    },
    {
     "name": "stdout",
     "output_type": "stream",
     "text": [
      "\n"
     ]
    },
    {
     "name": "stderr",
     "output_type": "stream",
     "text": [
      "\n",
      "Extracting Dataset Version Zip to CarInspection-1 in coco:: 100%|██████████| 66/66 [00:00<00:00, 1197.20it/s]\n"
     ]
    }
   ],
   "source": [
    "from roboflow import Roboflow\n",
    "rf = Roboflow(api_key=\"so5ZbMfDiOAgGk4u4bpS\")\n",
    "project = rf.workspace(\"test-epgqn\").project(\"carinspection\")\n",
    "dataset = project.version(1).download(\"coco\")\n"
   ]
  },
  {
   "cell_type": "code",
   "execution_count": 14,
   "id": "04dfa2d6",
   "metadata": {},
   "outputs": [
    {
     "data": {
      "text/plain": [
       "<roboflow.core.dataset.Dataset at 0x2918393fc10>"
      ]
     },
     "execution_count": 14,
     "metadata": {},
     "output_type": "execute_result"
    }
   ],
   "source": [
    "dataset"
   ]
  },
  {
   "cell_type": "code",
   "execution_count": null,
   "id": "c6cfe61b",
   "metadata": {},
   "outputs": [],
   "source": []
  }
 ],
 "metadata": {
  "kernelspec": {
   "display_name": "Python 3 (ipykernel)",
   "language": "python",
   "name": "python3"
  },
  "language_info": {
   "codemirror_mode": {
    "name": "ipython",
    "version": 3
   },
   "file_extension": ".py",
   "mimetype": "text/x-python",
   "name": "python",
   "nbconvert_exporter": "python",
   "pygments_lexer": "ipython3",
   "version": "3.11.3"
  }
 },
 "nbformat": 4,
 "nbformat_minor": 5
}
